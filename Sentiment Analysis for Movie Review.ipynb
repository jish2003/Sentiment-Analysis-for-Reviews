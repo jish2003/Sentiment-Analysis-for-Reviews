{
 "cells": [
  {
   "cell_type": "markdown",
   "id": "9daf47a7",
   "metadata": {},
   "source": [
    "### Install Packages and Import the same"
   ]
  },
  {
   "cell_type": "code",
   "execution_count": 1,
   "id": "5b1bfa1b",
   "metadata": {},
   "outputs": [],
   "source": [
    "from transformers import AutoTokenizer, AutoModelForSequenceClassification\n",
    "import torch\n",
    "import requests\n",
    "from bs4 import BeautifulSoup\n",
    "import re"
   ]
  },
  {
   "cell_type": "markdown",
   "id": "261a533e",
   "metadata": {},
   "source": [
    "### Get the Model"
   ]
  },
  {
   "cell_type": "code",
   "execution_count": 2,
   "id": "c7c7001b",
   "metadata": {},
   "outputs": [],
   "source": [
    "tokenizer = AutoTokenizer.from_pretrained('nlptown/bert-base-multilingual-uncased-sentiment')\n",
    "model = AutoModelForSequenceClassification.from_pretrained('nlptown/bert-base-multilingual-uncased-sentiment')"
   ]
  },
  {
   "cell_type": "markdown",
   "id": "b0a91cce",
   "metadata": {},
   "source": [
    "### Sentiment Analyzer"
   ]
  },
  {
   "cell_type": "code",
   "execution_count": 3,
   "id": "e9a72faa",
   "metadata": {},
   "outputs": [],
   "source": [
    "tokens = tokenizer.encode(\"I hated this at worst , absolutely the Best.\", return_tensors='pt')"
   ]
  },
  {
   "cell_type": "code",
   "execution_count": 4,
   "id": "cb7e5adf",
   "metadata": {},
   "outputs": [],
   "source": [
    "result = model(tokens)"
   ]
  },
  {
   "cell_type": "code",
   "execution_count": 5,
   "id": "cee2eacc",
   "metadata": {},
   "outputs": [
    {
     "data": {
      "text/plain": [
       "tensor([[ 0.3237, -0.3555, -1.0177, -0.6527,  1.4966]],\n",
       "       grad_fn=<AddmmBackward0>)"
      ]
     },
     "execution_count": 5,
     "metadata": {},
     "output_type": "execute_result"
    }
   ],
   "source": [
    "result.logits"
   ]
  },
  {
   "cell_type": "code",
   "execution_count": 6,
   "id": "1633cbec",
   "metadata": {},
   "outputs": [
    {
     "data": {
      "text/plain": [
       "5"
      ]
     },
     "execution_count": 6,
     "metadata": {},
     "output_type": "execute_result"
    }
   ],
   "source": [
    "int(torch.argmax(result.logits))+1"
   ]
  },
  {
   "cell_type": "markdown",
   "id": "5fe26096",
   "metadata": {},
   "source": [
    "### Scrap the Reviews from Web"
   ]
  },
  {
   "cell_type": "code",
   "execution_count": 50,
   "id": "a4a65691",
   "metadata": {},
   "outputs": [],
   "source": [
    "reviews = []\n",
    "r = requests.get('https://www.imdb.com/title/tt12844910/reviews?ref_=tt_urv')\n",
    "soup = BeautifulSoup(r.text, 'html.parser')\n",
    "this_content = soup.find_all('div', attrs={'class': 'content'})\n",
    "for content in this_content:\n",
    "    results = content.find('div', attrs = {'class': 'text'})\n",
    "    reviews.append(results.text)"
   ]
  },
  {
   "cell_type": "code",
   "execution_count": 51,
   "id": "a4208d84",
   "metadata": {},
   "outputs": [
    {
     "data": {
      "text/plain": [
       "[\"Bollywood should have realised by now that big stars and over the top action sequences without a proper story and screenplay doesn't make a good movie.Within few minutes into the movie we knew what we are getting into. Complete,mindless action sequences one after another. Not even SRK and Deepika could save this one.The dialogues were cheesy, and the stunts were over the top that after certain point it feels like a joke. I do love mindless action movies like fast and furious but this feels like a parody of all those filmsThis movie is over-ambitious for its own sake.Let's hope Bollywood atleast in the near future realise they need good scripts to a make a good movie .\",\n",
       " 'Yash Raj Films cashed on the \\'Civilian Vs Military\\' hysteria of their neighbouring country and produced a film which heavily relied on the charisma of ShahRukh Khan & massy cameo of superstar Salman Khan, who reprised his role from Tiger franchise.If you\\'re looking for a depth or traditional spy genre movie, then Pathan is not your cup of tea, It\\'s plain and predictable with the brand of cinema you have already seen in many Bollywood films especially when they integrated \"Pakistan\" as their nemesis.John Abraham played \"Jim\" an ex Raw officer, who turned into a monster after a he lost his wife and children during a mission. He blamed Raw and turned havoc over his motherland adjoining Pakistani general \"Qadir\" carbonated from the ex COAS General Qamar Javed Bajwa, then Raw/JOCR turned to \"Pathan\" who was exiled purposely after he messed up a mission in Russia. Abraham got some depth and his presence was felt through first half after that his character lost depth and he became predictable.Khan played Pathan, the man with no roots, his character was not justified though SRK aced whatever the script offered him. He was massy, witty and grimacing brilliant as Pathan, which never connected to his ancestral roots which I imagined before the release of the film.Deepika played an ISI agent, totally distorting the \"Islamic Republic\" image of Pakistan. Though Rubina/Rubai was a fictional character but it was trash to reality specifically when they linked it to a Pakistani woman. They disgraced the honor of Pakistani woman brilliantly.Mass factor of the film was Salman Khan cameo as Tiger, he owned Khan for a sequence, totally outshines SRK for a while. It was great to see, both khan\\'s lighting the screen with hotness and swagger.Don\\'t expect something marvellous, the movie will never disappoint you!',\n",
       " 'Action packed entertainer and a visual treat for not only srk fans but also all action dimension movie lovers. Storyline, dialogues, cinematography, acting, direction, action scenes, all things fit perfectly to create this amazing entertainer. Music is on point. The sprinkles of comedy and humour combined with the unique charm of srk help to elevate overall experience of the movie. But something feels lacking, some stones are left unturned. The movie is unable to connect and satisfy the viewer like typical srk movies do.The level of satisfaction while leaving the theatre is low, unlike other srk movies. The structuring and sequencing of the scenes could have been done in a more better manner. Deepika is just a timepass character and fails to impress. John is \"OK\". Storyline is also pretty straight and simple and lacks real twists and turns to give you that nail biting experience. It almost feels that just because it is srk people are forcing themselves to like the movie. U replace srk with any other star and movie will go down for sure. The director of the movie miserably failed to effectively utilise the asset named srk he had at his disposal.Also originality is at question as many times the movie feels just compilation of scenes from different movies like War, Welcome, Don series, Happy New year, race 2, character M from James bond, Ek tha tiger etc. The emotions are lacking and only action is visible.Overall a one time watch average movie with driving factor srk transformaing it into a hit.',\n",
       " 'Nothing Orignal Every action scene is copied (cheap copy) from Hollywood movies like Mission impossible , Fast and furious etc... Action and VFX are 3rd class in this movie (Worst and illogical ever i have seen in recent year) Funny scene - Not at all Funny Not only action but they also copied fast and furious fingerprint scene.There is one cameo in this movie (forcefully added) which is ok.YRF is known for their quality action sequences but here they really really disappoints Acting - Only John Abraham really impress us Story - Confusing Direction - Worst Screenplay : Ok OK BGM : Good Action/VFX : worst Dialogue: Ok OK The Hole concept ok this movie is confusing.',\n",
       " \"Director Siddharth Anand has created the same magic as he did for WAR but this time in a large way. The Presentation of SHAHRUKH KHAN is phenomenal specially the entry sequence, the fight scenes, the acting is just totally stunning. Powerful Comeback of SRK you can easily say. Deepika Padukone will please you away. She looks so stunning and even her action sequences are good. Whereas talking about the villain John Abraham is not perfect but he looks absolutely brilliant in all action sequences and whenever the face-off of Srk & John happens.Good Points:\\nMovie is shot in a grand spectacle and you can clearly see when you watch the film\\nVFX looks far better as we expected.Action Sequences are one of the highlights in the movie and the fast paced action sequence will blow you away.There are lots of twist & turns and Surprising Cameos which will blow your mind in the movie.Bad Points:\\nStory is as similar as war not totally same but you can easily say a typical patriotic one which is a big drawback of the film\\nJohn is good as villain but director could've shown him in more powerful way because it didn't seem john has uses is full potential in this film.It's definitely a one time watch film specially for its action sequences and a powerful performances of SRK and all the actors . (8/10) Action lovers don't miss this...\",\n",
       " 'Directed by Siddharth Anand starring Shah Rukh Khan Deepika Padukone John AbrahamAn out an out Entertainer...Once a King always a King, SRK proved once again that why he is the King of Bollywood...He one of his interviews stated that am here to rule & yes its true....SRK is back 🔥🔥🔥🔥Positivity of the Movie...1) SRK introduction followed by the action sequence was just goosebumps moment that being delivered..2) SRK who never seen in a full fledge action movie, Pathaan answered. He put his all efforts to make the actions interesting. His swag , his dialogue delivery, i cannot able to take my eyes from him.3) John as the antagonist. He nailed it. His looks, base of the voice while delivering something serious was captivating.4) Deepika performed too well. When glamour is required she done it well, when action required she done well. More than a shadow for the hero, her performance made the audience convinced she was a having a important role in the movie.5) Action sequences was amazing especially climax fight sequence of SRK and John. I just loved it.6) People who have mugged up James Bond and Mission Impossible movies, will feel not unique while watching Pathaan but Siddharth Anand added the ingredients required to entertain the audience.Negativity of the Movie.1) VFX could have been better. In certain action sequence it was quite evident.2) John Abhram screen presence was less. More focus went to SRK and Deepika. The story should jab focused on how John Abhram character plans for the mission etc etc.3) Songs were average.Overall a perfect comeback for King Khan at the box office.',\n",
       " \"All hype worth it after watching pathaan. Srk steal the show. And can't ignore John and deepika. Action is ray catching. Srk give goosebumps in introduction scene. Excited to see YRF spy universe another movies. And one surprise steal your heart and make you happy. Watch it in imax would be unique experience to watch first bollywood movie of imax4d. But it's feel sad that some group of haters try to fall down the movie with pre-planned propoganda. If you miss this one in theatre then you feel regret. After a long time theatres are full of audience. Grab this opportunity and watch never seen experience of king of bollywood.\",\n",
       " 'As usual Bollywood, cheap copy of Hollywood movies. Pick a scene from here, pick another from there and you have your Bollywood film ready.You will definitely remember following while watching:\\nCaptain America: The Winter Soldier.Captain America: Civil War.Sherlock Holmes: Game of Shadows.Matrix part 1\\nMatrix Reloaded.Inception (Snow chase scene)\\nIron Man - Black Widow Intro\\nRest all scenes feels like have seen them for sure, not exactly able to place them right now, will surely remember later on.In a nutshell, nothing new or original, but that was expected from Bollywood.Nothing more to say.',\n",
       " \"If you take a bond film , the bourne series and mission impossible And then add a huge dollop of Bollywood including the song & dance routine and a complete detachment from reality and you're actually left with quite a good bit of entertainmentDon't go with great expectations or you'll be disappointed just go and allow yourself to be entertained and you will beIt's a political international spy story with romance , twists and turns , you're never sure who's on who's side or who's the real good guys and who are baddies and in typical Bollywood tradition any love scenes are implied rather than graphic - there's no kissing allowed here and certainly no more than that - Bollywood is as conservative as it was 35 years ago when I last watched a Hindi film - sure there were lots of beautiful perfectly formed people staring into each other eyes and getting within an inch of each other but that's where it endsThere's a huge dollop of violence but it's all choreographed and there were families with young children watching it as it's cut for a 12a rating .The positives were the set locations Dubai , Cadiz and Palma looked amazing with all the drone and helicopter shots. Additional scenes in Beirut , Afghanistan, New Delhi , The artic & Antarctic.A lot of spectacular helicopter flying some of which was clearly cgi but added to the action - like Tom Cruise these actors are in their 50s and no doubt need to be incredibly fit to do all those stunts ( not jealous of their six packs at all ! )Controversially some of the story & action takes place in Russia and although the Moscow scenery is spectacular and skyline as impressive as Dubai it felt uncomfortable knowing this was filmed after the invasion of Ukraine coinciding with the script emphasising the importance of Russia as an ally of India and not wanting to upset them - that didn't feel comfortable as no doubt the fact the script and plot brings up the sensitive subject of Kashmir which will no doubt not sit comfortably with allThe main female star and potential love interest of the good guy and bad buy was played by the stunning danish born ex badminton player Deepika Padukone who kind of reminded me of the character played by Catherine Zeta Jones in Entrapment in many ways from costume to location to plot .If this had been a Hollywood movie the budget needed would be well in excess of $100m so the producers deserve credit for making it for the equivalent of $30m . The sound was amazing and music added so much to the entertainment if you're able to detach yourself the couple of times they break into song .Overall a good piece of entertainment that actually has you on the edge of the seat touches your emotions and being a smile to your face and a sense of completion and achievement.If you don't see it on the cinema you'll catch in on amazon prime it's inspired me to want to watch more Bollywood.Don't worry about the subtitles as probably about 30% of the dialogue was in English even when you least expected it half way through a sentence in Hindi the characters break into English which took a bit of getting used to.EnjoyablePad. A 9/10.\",\n",
       " \"First things first, suspend your sense of disbelief before you sit to watch this film. Some super creative liberties have been taken to salvage SRK's flagging career. His fan armies may be making a lot of noise around the movie but as a neutral viewer, I found this movie to be just run of the mill heroism cut from the same cloth as Salman Khan's chest thumping macho cinema as seen in the likes of Ek Tha Tiger or Tiger Zinda Hai. Logic is out. It's just visual appeal, bravado laden dialogues and other such massy elements. The hype and hoopla surrounding the movie betrayed the real deal. The movie is all style and totally lacking substance. Beyond a point, such cinema begins to cause heartache. All said and done, the movie does have its high points such as Salman Khan's Tiger character integrations, Ashutosh Rana's acting and John Abraham's svelte looks. Besides that the VFX is low brow, masculinity overboard and a supremely weak storyline and weak writing. It can be watched once on OTT. Not worth the ticket price.\",\n",
       " \"This would have been a great films with such sting cast and big budget.SRK is just following the trends I guess make a movie like marvel with good VFX and keep comedy lines in dialogue so that people find it funny and think of you as tony stark.I mean seriously the dialogue's were so childish. The movie was even very predictable with a climax that was just the most disappointing part of itI gave this movie 3 stars coz of John Abraham who's character is quite interesting and makes the movie tolerable to watchThis movie needed to take inspiration from Baby and mission impossible franchise.\",\n",
       " 'After gap of almost 5 yrs Sharukh Khan gave a movie which is full of superb direction, fast paced action and off course our beloved Beshram Rang song. This is a roller coaster ride which when ends, we take breath and lament why it ended. Stunts are astounding and no less than Hollywood movie. Chemistry between SRK and Deepika is already proven in Chennai Express and Om Shanti Om but she also did awesome action which are simply superb. Without giving away story, this is desi version of Mission Imposible and Jack Reacher and SRK proved again be it any role he can nail it.Guys go for it, 2023 beginning on best ever note for Bollywood and this movie will give you all to remember in best way. This movie is really an event and SRK proved why he is King of Bollywood.',\n",
       " 'Sameer lodayaThe movie is commercial delight and a proper mass Hindi entertainerSRK made his come back with a bang with gorgeous Deepika and hunk John all look good and played very well their charactersThe movie is very delightful to see as Siddarath has showed good locations with great back ground scores the fight sequences are unique and thumping..the story is predictable and the makers have given good twists..songs are already on chartsThe above all cinematic experience is great and masses will enjoy the fullest..Good surprises you will get to see ..the plan of making spy universe of yashraj will be a mark for BollywoodSRK fans will enjoy to the fullest.',\n",
       " 'This movie is full of Bollywood cliches, bad CGI, horrible stunts, potholes and inept direction.Couple that with a jaded, old Shahrukh Khan trying to play a far younger guy and skinny, unattractive Deepika Padukone, this movie resembles nothing more than an eyesore landfill.John Abraham is wooden though he does try hard. Shahrukh fake muscles are painfully obvious. In some scenes, his face has been badly photoshopped on the bulky body of a far bigger man. I blinked several times to convince myself that this is not a spoof film.Wastage of your time and money. This film is not worth watching even on OTT. Watch paint dry instead.',\n",
       " 'Best action movie from India in any language. It is one of the best action movies overall, can give competition and stand tall amongst action movie franchises in international markets. Crsip, fast paced and action fueled. Iwisj the CGI was done by Red Chillies but nothing in world is perfect.....\\nCo stars are given as much weightage as Shah Rukh Khan but at moments when it needs to emphasise that the movie is riding on Pathaan, they were able to show that difference also.Cameo was mind blowing and this is how you integrate a movie into a universe. The Spy Universe if keeps putting this level of movies can become one of the biggest franchise in India and European markets.',\n",
       " \"This film is all about entertainment. A little bit slower first half but the second half covers up everything and my o my what a climax. I just loved watching the film n now looking forward to watch it again on IMAX screen. The film has a proper story, interesting execution and long action sequences, most specially SRK's hand to hand combat sequences. BGM is also good. Dipika has done a good and John, wow he soaked up his character so brilliantly, his dialogues and evil mind-set makes u hate him more. SRK is back baby and he is back is a monstrous way. A very big thumbs up for pathaan. All the very best.\",\n",
       " \"Well, Honestly I'm not a SRK fan but believe me Pathaan is a Fantastic movie .Bgmi is Very Good , acting of Everyone was superb , John's Negetive role is best ever , the Movie is Full of ACTION and can Compete any Hollywood Action Movie. Salman's Cameo role is faadu and deepika's hotness is OMG.Story of the film is good but definitely not the strongest part of film. The biggest positive part of movie is villain,he has a very strong character. I think if movie has a great villain in action films, hero automatically shines nd audience loves it, this movie has everything what you want to experience in theater.\",\n",
       " \"A stupid movie throughout. Good technicals in some parts are shown but on average its stupid. SRK is back in about 5 years and it's good. But still it misses drive of sitting throughout. Deepika is good but the song shouldn't be implemented as you know the shameless color song.A very unmindful movie regarding sentiments of our nation and traditions. These modern business ideas have destroyed the nation's goods. They should give it a thought and should refrain from making such type of movies.Now the film's story is good. SRK is the hero with a nationalistic attitude and stands for his country's need. But the song line have troubled the entirety.\",\n",
       " 'Was at FD/FS in Jaipur, India on 25 Jan at Raj Mandir iconic cinema. Sold out audience, 1165 seats sold. 1 screen. Totally unique experience for me (Hail from USA NC). As action is my favorite genre, Pathaan wowed me: 1 action scene after another. Shah Rukh was magnificent. Use of his body in action scenes was impeccable. And his specialty, facial expressions, were spot on. I was thrilled to see a female action heroine. Deepika Padukone was amazing. John Abraham as villan was chilling and ruthless. I loved the movie. Yes it was implausible...so is Iron Man (which I love). IMO, there was not a slow moment. It was in Hindi with no subtitles, but I could follow the story for the most part. I will see again while I am still in India. Then hope to see on big screen with subtitles when I get back to USA. The distributors added more screens after first show openings, calling Pathaan, a \"box office\" monster. In addition to the great movie, watching with 1164 other SRK fans was a most unique and special experience. The fans cheered throught the movie and danced to both songs. Fans were almost all men. And I know of no theater in USA with 1 screen for 1000+ seats. Yet I am pretty sure all had a perfect view. The SRK Jaipur Fan Club facilitated this experience for me, and I am grateful.',\n",
       " \"Pathaan, in one words, is an entertaining movie. It was shot in a way that it will give you a 'mission impossible' vibe. Action is honestly top notched. It is not a memorable movie. It never promised to be. It was advertised as a full on spicy film and trust me, it has all the elements of what a spicy film should have. I enjoyed the movie from the beginning to the end and most of the people in a house full cineplex in Edmonton did. I liked Deepika. Srk is amazing. John is absolutely mind blowing. This probably will be the biggest hit of 2023 and it certainly deserves to be. The content is good and it keeps the audience entertained.\",\n",
       " 'I was taken back to 80s\\' and 90s\\' when Bollywood used to make those atupid movies. It\\'s either of the two - 1. Bollywood just lacks the creativity to come up with something good or 2. They think the audience is stupid enough to watch nonsense. I had high hopes from this one but now Im cursing myself for wasting money. What do I write about the movie. Kiddish plot, rubbish dialogues, Salman promoting Tiger 3, John looks good, Deepika is wasted, no direction. Climax scene has SRK saying to Salman \"bacho pe nahi chhod sakte, hume hi kuch karna padega\". But, if SRK and Salman keep making such movies, only God can save Bollywood.',\n",
       " 'Just watched Pathaan...\\nPathaan Review - Yash raj films brings another great movie after Tiger Franchise and War... YRF Spy Universe is on... Shah Rukh Khan, Deepika Padukone and John Abraham is Excellent... Action is on Another level... Loved it... Sharukh and Deepika jodi is amazing... Dimple kapadia also done a fabulous job... John is superb as villain... Deepika action scenes are great... SRK also gives fantastic performance... Loved the references to Tiger Franchise and War... Overall a very good action adventure... Worth all the hype... Fantastic movie from Bollywood after long time...\\nMy Rating - 9/10...',\n",
       " 'Pros - As expected cliched bollywood template spy thriller story , but screenplay played major part by not letting down the tone . Writers did good job in writing part , movie had pretty strong antagonist played by John Abraham , his character had strong motive and skills equal to \"Kabir\" ( played by hrithik roshan ) character we saw in \"War\" movie . Intresting part director didn\\'t try to show Pathaan character as perfect and smart soldier , has his own flaws . Cast did a great job , watching Shahrukh Khan\\'s swag after 4 years on screen he delivered a stylish performance . Deepika also had scope equal to Shahrukh and she nailed it in her action sequences . Some of the action set pieces were really great . Technically , cinematography and music were good .Cons - Over the top action sequence literally went meh due to poor work of VFX and felt more like cartoon . Below average production design .Verdict - Overall , eventhough it\\'s cliched in most of the part , decent screenplay keeps you hooked up throughout the movie . If you like \" War \" then give it a try . Good treat for Shahrukh Khan fans .',\n",
       " \"Shah Rukh Khan returning to the big screen as PATHAAN, after 4 long years was fun to watch him but it was the team he chose who pulled down the film as well as his commitment with a silly screenplay. India is being targeted by a crazy Pakistani general who teams up with a disgruntled ex-RAW agent Jim. To avoid this deadly attack and to stop Jim, Pathaan has to be called back. How Pathaan succeeds in his mission with little help from others to make this movie part of the spy verse forms rest of the story.Siddharth Anand's heart is in the right place with respect to the story he has written but it is heavily flawed and too generic. The twists, the conspiracies and the big action look all deliberate with an unconvincing screenplay. The dialogues by Abbas Tyrewala should have been a lot better considering this is an event movie. The pace meanders as several scenes lacked the desired impact and it was all left to SRK to do the heavy lifting. There is only so many times one can forgive ordinary VFX.Writing indeed is the culprit with supporting cast being underwritten which directly impacts the key scenes seeking emotional response. Shah Rukh Khan is back and is hungry to entertain, which he does. Sadly, he once again deserved a better movie. If this spyverse is the real deal then YRF should really hire good writers.I am going with a lenient rating with Megastar Salman Khan also appearing as Tiger in a pretty predictable generic scene. The Big stars can only do their bit, the spy verse can only be saved by good writing.\",\n",
       " 'Cinematography, dialogues, story and direction. Everything is great.Glad to see a well thought out movie after some time. All the characters were well written and complex. Unlike the flat characters that are usually written in hero vs villian.Saw a lot of elements of Marvel franchise. The cameo, complex villian, humor were all appreciable.Especially the \"villian\".Refreshing to see after the general stencil of villian with a bad plan and hero trying to stop. This time villian had good thought out plans and things were quite unexpected.So there was the shock factor as well. Mystery, thrill and action.There were some instances that were typical Bollywood stuff but I found it to be endearing actually. Like if they changed everything we\\'d miss it.That\\'s all I can say without spoilers. Overall very entertaining, very nice to watch and experience.']"
      ]
     },
     "execution_count": 51,
     "metadata": {},
     "output_type": "execute_result"
    }
   ],
   "source": [
    "#content\n",
    "reviews"
   ]
  },
  {
   "cell_type": "markdown",
   "id": "5871798d",
   "metadata": {},
   "source": [
    "### Create a Dataframe to collect reviews and sentiment all at one place"
   ]
  },
  {
   "cell_type": "code",
   "execution_count": 52,
   "id": "13599ad2",
   "metadata": {},
   "outputs": [],
   "source": [
    "import numpy as np\n",
    "import pandas as pd"
   ]
  },
  {
   "cell_type": "code",
   "execution_count": 53,
   "id": "499d6edb",
   "metadata": {},
   "outputs": [],
   "source": [
    "df = pd.DataFrame(np.array(reviews), columns = ['reviews'])"
   ]
  },
  {
   "cell_type": "code",
   "execution_count": 54,
   "id": "8a2740dd",
   "metadata": {},
   "outputs": [
    {
     "data": {
      "text/html": [
       "<div>\n",
       "<style scoped>\n",
       "    .dataframe tbody tr th:only-of-type {\n",
       "        vertical-align: middle;\n",
       "    }\n",
       "\n",
       "    .dataframe tbody tr th {\n",
       "        vertical-align: top;\n",
       "    }\n",
       "\n",
       "    .dataframe thead th {\n",
       "        text-align: right;\n",
       "    }\n",
       "</style>\n",
       "<table border=\"1\" class=\"dataframe\">\n",
       "  <thead>\n",
       "    <tr style=\"text-align: right;\">\n",
       "      <th></th>\n",
       "      <th>reviews</th>\n",
       "    </tr>\n",
       "  </thead>\n",
       "  <tbody>\n",
       "    <tr>\n",
       "      <th>0</th>\n",
       "      <td>Bollywood should have realised by now that big...</td>\n",
       "    </tr>\n",
       "    <tr>\n",
       "      <th>1</th>\n",
       "      <td>Yash Raj Films cashed on the 'Civilian Vs Mili...</td>\n",
       "    </tr>\n",
       "    <tr>\n",
       "      <th>2</th>\n",
       "      <td>Action packed entertainer and a visual treat f...</td>\n",
       "    </tr>\n",
       "    <tr>\n",
       "      <th>3</th>\n",
       "      <td>Nothing Orignal Every action scene is copied (...</td>\n",
       "    </tr>\n",
       "    <tr>\n",
       "      <th>4</th>\n",
       "      <td>Director Siddharth Anand has created the same ...</td>\n",
       "    </tr>\n",
       "    <tr>\n",
       "      <th>5</th>\n",
       "      <td>Directed by Siddharth Anand starring Shah Rukh...</td>\n",
       "    </tr>\n",
       "    <tr>\n",
       "      <th>6</th>\n",
       "      <td>All hype worth it after watching pathaan. Srk ...</td>\n",
       "    </tr>\n",
       "    <tr>\n",
       "      <th>7</th>\n",
       "      <td>As usual Bollywood, cheap copy of Hollywood mo...</td>\n",
       "    </tr>\n",
       "    <tr>\n",
       "      <th>8</th>\n",
       "      <td>If you take a bond film , the bourne series an...</td>\n",
       "    </tr>\n",
       "    <tr>\n",
       "      <th>9</th>\n",
       "      <td>First things first, suspend your sense of disb...</td>\n",
       "    </tr>\n",
       "    <tr>\n",
       "      <th>10</th>\n",
       "      <td>This would have been a great films with such s...</td>\n",
       "    </tr>\n",
       "    <tr>\n",
       "      <th>11</th>\n",
       "      <td>After gap of almost 5 yrs Sharukh Khan gave a ...</td>\n",
       "    </tr>\n",
       "    <tr>\n",
       "      <th>12</th>\n",
       "      <td>Sameer lodayaThe movie is commercial delight a...</td>\n",
       "    </tr>\n",
       "    <tr>\n",
       "      <th>13</th>\n",
       "      <td>This movie is full of Bollywood cliches, bad C...</td>\n",
       "    </tr>\n",
       "    <tr>\n",
       "      <th>14</th>\n",
       "      <td>Best action movie from India in any language. ...</td>\n",
       "    </tr>\n",
       "    <tr>\n",
       "      <th>15</th>\n",
       "      <td>This film is all about entertainment. A little...</td>\n",
       "    </tr>\n",
       "    <tr>\n",
       "      <th>16</th>\n",
       "      <td>Well, Honestly I'm not a SRK fan but believe m...</td>\n",
       "    </tr>\n",
       "    <tr>\n",
       "      <th>17</th>\n",
       "      <td>A stupid movie throughout. Good technicals in ...</td>\n",
       "    </tr>\n",
       "    <tr>\n",
       "      <th>18</th>\n",
       "      <td>Was at FD/FS in Jaipur, India on 25 Jan at Raj...</td>\n",
       "    </tr>\n",
       "    <tr>\n",
       "      <th>19</th>\n",
       "      <td>Pathaan, in one words, is an entertaining movi...</td>\n",
       "    </tr>\n",
       "    <tr>\n",
       "      <th>20</th>\n",
       "      <td>I was taken back to 80s' and 90s' when Bollywo...</td>\n",
       "    </tr>\n",
       "    <tr>\n",
       "      <th>21</th>\n",
       "      <td>Just watched Pathaan...\\nPathaan Review - Yash...</td>\n",
       "    </tr>\n",
       "    <tr>\n",
       "      <th>22</th>\n",
       "      <td>Pros - As expected cliched bollywood template ...</td>\n",
       "    </tr>\n",
       "    <tr>\n",
       "      <th>23</th>\n",
       "      <td>Shah Rukh Khan returning to the big screen as ...</td>\n",
       "    </tr>\n",
       "    <tr>\n",
       "      <th>24</th>\n",
       "      <td>Cinematography, dialogues, story and direction...</td>\n",
       "    </tr>\n",
       "  </tbody>\n",
       "</table>\n",
       "</div>"
      ],
      "text/plain": [
       "                                              reviews\n",
       "0   Bollywood should have realised by now that big...\n",
       "1   Yash Raj Films cashed on the 'Civilian Vs Mili...\n",
       "2   Action packed entertainer and a visual treat f...\n",
       "3   Nothing Orignal Every action scene is copied (...\n",
       "4   Director Siddharth Anand has created the same ...\n",
       "5   Directed by Siddharth Anand starring Shah Rukh...\n",
       "6   All hype worth it after watching pathaan. Srk ...\n",
       "7   As usual Bollywood, cheap copy of Hollywood mo...\n",
       "8   If you take a bond film , the bourne series an...\n",
       "9   First things first, suspend your sense of disb...\n",
       "10  This would have been a great films with such s...\n",
       "11  After gap of almost 5 yrs Sharukh Khan gave a ...\n",
       "12  Sameer lodayaThe movie is commercial delight a...\n",
       "13  This movie is full of Bollywood cliches, bad C...\n",
       "14  Best action movie from India in any language. ...\n",
       "15  This film is all about entertainment. A little...\n",
       "16  Well, Honestly I'm not a SRK fan but believe m...\n",
       "17  A stupid movie throughout. Good technicals in ...\n",
       "18  Was at FD/FS in Jaipur, India on 25 Jan at Raj...\n",
       "19  Pathaan, in one words, is an entertaining movi...\n",
       "20  I was taken back to 80s' and 90s' when Bollywo...\n",
       "21  Just watched Pathaan...\\nPathaan Review - Yash...\n",
       "22  Pros - As expected cliched bollywood template ...\n",
       "23  Shah Rukh Khan returning to the big screen as ...\n",
       "24  Cinematography, dialogues, story and direction..."
      ]
     },
     "execution_count": 54,
     "metadata": {},
     "output_type": "execute_result"
    }
   ],
   "source": [
    "df"
   ]
  },
  {
   "cell_type": "code",
   "execution_count": 55,
   "id": "61f8621c",
   "metadata": {},
   "outputs": [],
   "source": [
    "def sentiment_score(review):\n",
    "    tokens = tokenizer.encode(review, return_tensors='pt')\n",
    "    result = model(tokens)\n",
    "    return int(torch.argmax(result.logits))+1"
   ]
  },
  {
   "cell_type": "code",
   "execution_count": 57,
   "id": "ea6b9b44",
   "metadata": {},
   "outputs": [],
   "source": [
    "df['sentiment'] = df['reviews'].apply(lambda x: sentiment_score(x[:512]))"
   ]
  },
  {
   "cell_type": "markdown",
   "id": "b08035bc",
   "metadata": {},
   "source": [
    "### Finally Display the DataFrame"
   ]
  },
  {
   "cell_type": "code",
   "execution_count": 58,
   "id": "0e18a1ba",
   "metadata": {},
   "outputs": [
    {
     "data": {
      "text/html": [
       "<div>\n",
       "<style scoped>\n",
       "    .dataframe tbody tr th:only-of-type {\n",
       "        vertical-align: middle;\n",
       "    }\n",
       "\n",
       "    .dataframe tbody tr th {\n",
       "        vertical-align: top;\n",
       "    }\n",
       "\n",
       "    .dataframe thead th {\n",
       "        text-align: right;\n",
       "    }\n",
       "</style>\n",
       "<table border=\"1\" class=\"dataframe\">\n",
       "  <thead>\n",
       "    <tr style=\"text-align: right;\">\n",
       "      <th></th>\n",
       "      <th>reviews</th>\n",
       "      <th>sentiment</th>\n",
       "    </tr>\n",
       "  </thead>\n",
       "  <tbody>\n",
       "    <tr>\n",
       "      <th>0</th>\n",
       "      <td>Bollywood should have realised by now that big...</td>\n",
       "      <td>1</td>\n",
       "    </tr>\n",
       "    <tr>\n",
       "      <th>1</th>\n",
       "      <td>Yash Raj Films cashed on the 'Civilian Vs Mili...</td>\n",
       "      <td>2</td>\n",
       "    </tr>\n",
       "    <tr>\n",
       "      <th>2</th>\n",
       "      <td>Action packed entertainer and a visual treat f...</td>\n",
       "      <td>3</td>\n",
       "    </tr>\n",
       "    <tr>\n",
       "      <th>3</th>\n",
       "      <td>Nothing Orignal Every action scene is copied (...</td>\n",
       "      <td>2</td>\n",
       "    </tr>\n",
       "    <tr>\n",
       "      <th>4</th>\n",
       "      <td>Director Siddharth Anand has created the same ...</td>\n",
       "      <td>5</td>\n",
       "    </tr>\n",
       "    <tr>\n",
       "      <th>5</th>\n",
       "      <td>Directed by Siddharth Anand starring Shah Rukh...</td>\n",
       "      <td>4</td>\n",
       "    </tr>\n",
       "    <tr>\n",
       "      <th>6</th>\n",
       "      <td>All hype worth it after watching pathaan. Srk ...</td>\n",
       "      <td>4</td>\n",
       "    </tr>\n",
       "    <tr>\n",
       "      <th>7</th>\n",
       "      <td>As usual Bollywood, cheap copy of Hollywood mo...</td>\n",
       "      <td>2</td>\n",
       "    </tr>\n",
       "    <tr>\n",
       "      <th>8</th>\n",
       "      <td>If you take a bond film , the bourne series an...</td>\n",
       "      <td>5</td>\n",
       "    </tr>\n",
       "    <tr>\n",
       "      <th>9</th>\n",
       "      <td>First things first, suspend your sense of disb...</td>\n",
       "      <td>1</td>\n",
       "    </tr>\n",
       "    <tr>\n",
       "      <th>10</th>\n",
       "      <td>This would have been a great films with such s...</td>\n",
       "      <td>3</td>\n",
       "    </tr>\n",
       "    <tr>\n",
       "      <th>11</th>\n",
       "      <td>After gap of almost 5 yrs Sharukh Khan gave a ...</td>\n",
       "      <td>4</td>\n",
       "    </tr>\n",
       "    <tr>\n",
       "      <th>12</th>\n",
       "      <td>Sameer lodayaThe movie is commercial delight a...</td>\n",
       "      <td>4</td>\n",
       "    </tr>\n",
       "    <tr>\n",
       "      <th>13</th>\n",
       "      <td>This movie is full of Bollywood cliches, bad C...</td>\n",
       "      <td>1</td>\n",
       "    </tr>\n",
       "    <tr>\n",
       "      <th>14</th>\n",
       "      <td>Best action movie from India in any language. ...</td>\n",
       "      <td>5</td>\n",
       "    </tr>\n",
       "    <tr>\n",
       "      <th>15</th>\n",
       "      <td>This film is all about entertainment. A little...</td>\n",
       "      <td>4</td>\n",
       "    </tr>\n",
       "    <tr>\n",
       "      <th>16</th>\n",
       "      <td>Well, Honestly I'm not a SRK fan but believe m...</td>\n",
       "      <td>3</td>\n",
       "    </tr>\n",
       "    <tr>\n",
       "      <th>17</th>\n",
       "      <td>A stupid movie throughout. Good technicals in ...</td>\n",
       "      <td>2</td>\n",
       "    </tr>\n",
       "    <tr>\n",
       "      <th>18</th>\n",
       "      <td>Was at FD/FS in Jaipur, India on 25 Jan at Raj...</td>\n",
       "      <td>5</td>\n",
       "    </tr>\n",
       "    <tr>\n",
       "      <th>19</th>\n",
       "      <td>Pathaan, in one words, is an entertaining movi...</td>\n",
       "      <td>3</td>\n",
       "    </tr>\n",
       "    <tr>\n",
       "      <th>20</th>\n",
       "      <td>I was taken back to 80s' and 90s' when Bollywo...</td>\n",
       "      <td>1</td>\n",
       "    </tr>\n",
       "    <tr>\n",
       "      <th>21</th>\n",
       "      <td>Just watched Pathaan...\\nPathaan Review - Yash...</td>\n",
       "      <td>4</td>\n",
       "    </tr>\n",
       "    <tr>\n",
       "      <th>22</th>\n",
       "      <td>Pros - As expected cliched bollywood template ...</td>\n",
       "      <td>2</td>\n",
       "    </tr>\n",
       "    <tr>\n",
       "      <th>23</th>\n",
       "      <td>Shah Rukh Khan returning to the big screen as ...</td>\n",
       "      <td>3</td>\n",
       "    </tr>\n",
       "    <tr>\n",
       "      <th>24</th>\n",
       "      <td>Cinematography, dialogues, story and direction...</td>\n",
       "      <td>4</td>\n",
       "    </tr>\n",
       "  </tbody>\n",
       "</table>\n",
       "</div>"
      ],
      "text/plain": [
       "                                              reviews  sentiment\n",
       "0   Bollywood should have realised by now that big...          1\n",
       "1   Yash Raj Films cashed on the 'Civilian Vs Mili...          2\n",
       "2   Action packed entertainer and a visual treat f...          3\n",
       "3   Nothing Orignal Every action scene is copied (...          2\n",
       "4   Director Siddharth Anand has created the same ...          5\n",
       "5   Directed by Siddharth Anand starring Shah Rukh...          4\n",
       "6   All hype worth it after watching pathaan. Srk ...          4\n",
       "7   As usual Bollywood, cheap copy of Hollywood mo...          2\n",
       "8   If you take a bond film , the bourne series an...          5\n",
       "9   First things first, suspend your sense of disb...          1\n",
       "10  This would have been a great films with such s...          3\n",
       "11  After gap of almost 5 yrs Sharukh Khan gave a ...          4\n",
       "12  Sameer lodayaThe movie is commercial delight a...          4\n",
       "13  This movie is full of Bollywood cliches, bad C...          1\n",
       "14  Best action movie from India in any language. ...          5\n",
       "15  This film is all about entertainment. A little...          4\n",
       "16  Well, Honestly I'm not a SRK fan but believe m...          3\n",
       "17  A stupid movie throughout. Good technicals in ...          2\n",
       "18  Was at FD/FS in Jaipur, India on 25 Jan at Raj...          5\n",
       "19  Pathaan, in one words, is an entertaining movi...          3\n",
       "20  I was taken back to 80s' and 90s' when Bollywo...          1\n",
       "21  Just watched Pathaan...\\nPathaan Review - Yash...          4\n",
       "22  Pros - As expected cliched bollywood template ...          2\n",
       "23  Shah Rukh Khan returning to the big screen as ...          3\n",
       "24  Cinematography, dialogues, story and direction...          4"
      ]
     },
     "execution_count": 58,
     "metadata": {},
     "output_type": "execute_result"
    }
   ],
   "source": [
    "df"
   ]
  },
  {
   "cell_type": "markdown",
   "id": "9355b799",
   "metadata": {},
   "source": [
    "#### The average Sentiment Score for all the reviews is"
   ]
  },
  {
   "cell_type": "code",
   "execution_count": 64,
   "id": "fce9684c",
   "metadata": {},
   "outputs": [
    {
     "data": {
      "text/plain": [
       "3.08"
      ]
     },
     "execution_count": 64,
     "metadata": {},
     "output_type": "execute_result"
    }
   ],
   "source": [
    "df['sentiment'].mean()\n"
   ]
  },
  {
   "cell_type": "code",
   "execution_count": null,
   "id": "b8ac8bea",
   "metadata": {},
   "outputs": [],
   "source": []
  }
 ],
 "metadata": {
  "kernelspec": {
   "display_name": "Python 3 (ipykernel)",
   "language": "python",
   "name": "python3"
  },
  "language_info": {
   "codemirror_mode": {
    "name": "ipython",
    "version": 3
   },
   "file_extension": ".py",
   "mimetype": "text/x-python",
   "name": "python",
   "nbconvert_exporter": "python",
   "pygments_lexer": "ipython3",
   "version": "3.9.7"
  }
 },
 "nbformat": 4,
 "nbformat_minor": 5
}
